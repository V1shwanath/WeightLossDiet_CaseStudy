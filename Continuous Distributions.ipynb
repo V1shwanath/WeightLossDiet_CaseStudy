{
 "cells": [
  {
   "cell_type": "markdown",
   "metadata": {},
   "source": [
    "# Continuous Probability Distributions"
   ]
  },
  {
   "cell_type": "code",
   "execution_count": 18,
   "metadata": {},
   "outputs": [],
   "source": [
    "import numpy as np\n",
    "import pandas as pd\n",
    "from scipy import stats\n",
    "import scipy\n",
    "import warnings\n",
    "warnings.simplefilter('ignore', DeprecationWarning)\n",
    "import matplotlib.pyplot as plt\n",
    "import numpy as np \n",
    "from scipy.stats import t\n",
    "from scipy.stats import norm"
   ]
  },
  {
   "cell_type": "code",
   "execution_count": 8,
   "metadata": {},
   "outputs": [
    {
     "data": {
      "text/plain": [
       "0    13.55\n",
       "1    13.39\n",
       "2    11.10\n",
       "3    10.81\n",
       "4     9.10\n",
       "5     8.28\n",
       "6     8.18\n",
       "7     6.13\n",
       "8     5.57\n",
       "9     4.72\n",
       "dtype: float64"
      ]
     },
     "execution_count": 8,
     "metadata": {},
     "output_type": "execute_result"
    }
   ],
   "source": [
    "data = [13.55,\n",
    "13.39,\n",
    "11.1,\n",
    "10.81,\n",
    "9.1,\n",
    "8.28,\n",
    "8.18,\n",
    "6.13,\n",
    "5.57,\n",
    "4.72\n",
    "]\n",
    "df = pd.Series(data)\n",
    "df"
   ]
  },
  {
   "cell_type": "markdown",
   "metadata": {},
   "source": [
    "## Meand and Standard Deviation\n"
   ]
  },
  {
   "cell_type": "code",
   "execution_count": 84,
   "metadata": {},
   "outputs": [
    {
     "name": "stdout",
     "output_type": "stream",
     "text": [
      "9.082999999999998\n",
      "2.9514879298414898\n"
     ]
    },
    {
     "data": {
      "text/plain": [
       "0    1.513474\n",
       "1    1.459264\n",
       "2    0.683384\n",
       "3    0.585129\n",
       "4    0.005760\n",
       "5   -0.272066\n",
       "6   -0.305947\n",
       "7   -1.000512\n",
       "8   -1.190247\n",
       "9   -1.478237\n",
       "dtype: float64"
      ]
     },
     "execution_count": 84,
     "metadata": {},
     "output_type": "execute_result"
    }
   ],
   "source": [
    "print(np.mean(df))\n",
    "print(np.std(df))\n",
    "\n",
    "dfz = stats.zscore(df)\n",
    "dfz\n"
   ]
  },
  {
   "cell_type": "code",
   "execution_count": 101,
   "metadata": {},
   "outputs": [
    {
     "name": "stdout",
     "output_type": "stream",
     "text": [
      "1.959963984540054\n",
      "7.123036015459946 11.042963984540055\n"
     ]
    }
   ],
   "source": [
    "alpha2 = stats.norm.ppf(1-0.05/2)\n",
    "print(alpha2)\n",
    "\n",
    "confidence1 = 9.083 - alpha2\n",
    "confidence2 = 9.083 + alpha2\n",
    "print(confidence1,confidence2)\n"
   ]
  },
  {
   "cell_type": "code",
   "execution_count": 134,
   "metadata": {},
   "outputs": [
    {
     "data": {
      "text/plain": [
       "<matplotlib.collections.PolyCollection at 0x1bcbfb498b0>"
      ]
     },
     "execution_count": 134,
     "metadata": {},
     "output_type": "execute_result"
    },
    {
     "data": {
      "image/png": "[encoded data removed]",
      "text/plain": [
       "<Figure size 432x288 with 1 Axes>"
      ]
     },
     "metadata": {},
     "output_type": "display_data"
    }
   ],
   "source": [
    "x_min = -3.0\n",
    "x_max = 3.0\n",
    "\n",
    "mean = 0\n",
    "std = 1\n",
    "\n",
    "x = np.linspace(x_min, x_max, 1000)\n",
    "\n",
    "y = scipy.stats.norm.pdf(x,mean,std)\n",
    "\n",
    "plt.plot(x,y, color='black')\n",
    "\n",
    "pt1 = 1.95\n",
    "plt.plot([pt1 ,pt1 ],[0.0,scipy.stats.norm.pdf(pt1 ,mean, std)], color='red')\n",
    "\n",
    "pt2 = -1.95\n",
    "plt.plot([pt2 ,pt2 ],[0.0,scipy.stats.norm.pdf(pt2 ,mean, std)], color='red')\n",
    "\n",
    "ptx = np.linspace(pt1, pt2, 10)\n",
    "pty = scipy.stats.norm.pdf(ptx,mean,std)\n",
    "\n",
    "plt.fill_between(ptx, pty, color='#0b555f', alpha=1.0)\n",
    "\n",
    "\n"
   ]
  }
 ],
 "metadata": {
  "interpreter": {
   "hash": "200dd371c3cb92aabcaef3663438aed4ebfaac6c6a79e54a17b7e0b6bf01b2b7"
  },
  "kernelspec": {
   "display_name": "Python 3.9.12 64-bit (windows store)",
   "language": "python",
   "name": "python3"
  },
  "language_info": {
   "codemirror_mode": {
    "name": "ipython",
    "version": 3
   },
   "file_extension": ".py",
   "mimetype": "text/x-python",
   "name": "python",
   "nbconvert_exporter": "python",
   "pygments_lexer": "ipython3",
   "version": "3.9.12"
  }
 },
 "nbformat": 4,
 "nbformat_minor": 4
}
