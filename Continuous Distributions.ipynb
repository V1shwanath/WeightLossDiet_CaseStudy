{
 "cells": [
  {
   "cell_type": "markdown",
   "metadata": {},
   "source": [
    "# Weight Loss Diet, A Case Study\n"
   ]
  },
  {
   "cell_type": "markdown",
   "metadata": {},
   "source": [
    "## Imported Libraries"
   ]
  },
  {
   "cell_type": "code",
   "execution_count": 3,
   "metadata": {},
   "outputs": [],
   "source": [
    "import numpy as np\n",
    "import pandas as pd\n",
    "from scipy import stats\n",
    "import scipy\n",
    "import warnings\n",
    "import matplotlib.pyplot as plt\n",
    "import numpy as np \n",
    "from scipy.stats import t\n",
    "from scipy.stats import norm\n",
    "import math\n",
    "import seaborn as sns"
   ]
  },
  {
   "cell_type": "markdown",
   "metadata": {},
   "source": [
    "## The DataSets"
   ]
  },
  {
   "cell_type": "code",
   "execution_count": 4,
   "metadata": {},
   "outputs": [],
   "source": [
    "#Before Weight\n",
    "xi = [103.68,110.68,119.05,101.75,91.69,112.03,88.84,105.18,110.37,120.99]\n",
    "x1 = pd.Series(xi)"
   ]
  },
  {
   "cell_type": "code",
   "execution_count": 5,
   "metadata": {},
   "outputs": [],
   "source": [
    "#After Weight\n",
    "xj = [92.87,101.58,105.66,96.18,86.97,105.90,80.56,97.00,99.27,107.44]\n",
    "x2 = pd.Series(xj)"
   ]
  },
  {
   "cell_type": "markdown",
   "metadata": {},
   "source": [
    "## DataSet Overview"
   ]
  },
  {
   "cell_type": "code",
   "execution_count": 16,
   "metadata": {},
   "outputs": [
    {
     "name": "stdout",
     "output_type": "stream",
     "text": [
      "count     10.000000\n",
      "mean     106.426000\n",
      "std       10.508764\n",
      "min       88.840000\n",
      "25%      102.232500\n",
      "50%      107.775000\n",
      "75%      111.692500\n",
      "max      120.990000\n",
      "dtype: float64 \n",
      " count     10.00000\n",
      "mean      97.34300\n",
      "std        8.67151\n",
      "min       80.56000\n",
      "25%       93.69750\n",
      "50%       98.13500\n",
      "75%      104.64000\n",
      "max      107.44000\n",
      "dtype: float64\n"
     ]
    }
   ],
   "source": [
    "print(x1.describe() , \"\\n\",x2.describe())\n"
   ]
  },
  {
   "cell_type": "code",
   "execution_count": 7,
   "metadata": {},
   "outputs": [
    {
     "name": "stdout",
     "output_type": "stream",
     "text": [
      "Mean and std of Before Weight Loss: 106.426 10.508763750106647\n",
      "Mean and std of After Weight Loss: 97.343 8.671510249085795\n"
     ]
    }
   ],
   "source": [
    "print(\"Mean and std of Before Weight Loss:\",x1.mean(), x1.std())\n",
    "print(\"Mean and std of After Weight Loss:\",x2.mean(), x2.std())\n",
    "\n",
    "s1 = x1.std()\n",
    "s2 = x2.std()\n"
   ]
  },
  {
   "cell_type": "code",
   "execution_count": 8,
   "metadata": {},
   "outputs": [
    {
     "data": {
      "text/plain": [
       "[Text(1, 0, 'Weight Before'), Text(2, 0, 'Weight After')]"
      ]
     },
     "execution_count": 8,
     "metadata": {},
     "output_type": "execute_result"
    },
    {
     "data": {
      "image/png": "[encoded data removed]",
      "text/plain": [
       "<Figure size 432x288 with 1 Axes>"
      ]
     },
     "metadata": {
      "needs_background": "light"
     },
     "output_type": "display_data"
    }
   ],
   "source": [
    "# Distribution overiew of the given sample\n",
    "my_dict = {'Weight Before': xi, 'Weight After':xj}\n",
    "\n",
    "fig, ax = plt.subplots()\n",
    "ax.boxplot(my_dict.values())\n",
    "ax.set_xticklabels(my_dict.keys())"
   ]
  },
  {
   "cell_type": "code",
   "execution_count": 64,
   "metadata": {},
   "outputs": [
    {
     "data": {
      "text/plain": [
       "9.634033567399367"
      ]
     },
     "execution_count": 64,
     "metadata": {},
     "output_type": "execute_result"
    }
   ],
   "source": [
    "standarddev = math.sqrt(((10 - 1)*s1 * s1 + (10-1)*s2 * s2) / (10 + 10-2))\n",
    "standarddev"
   ]
  },
  {
   "cell_type": "markdown",
   "metadata": {},
   "source": [
    "## Appropriate Statistic to use i.e T-Statistic "
   ]
  },
  {
   "cell_type": "code",
   "execution_count": 68,
   "metadata": {},
   "outputs": [
    {
     "data": {
      "text/plain": [
       "2.10092204024096"
      ]
     },
     "execution_count": 68,
     "metadata": {},
     "output_type": "execute_result"
    }
   ],
   "source": [
    "# To find the T critical value\n",
    "t = stats.t.ppf(q=1-.05/2,df=18)\n",
    "t"
   ]
  },
  {
   "cell_type": "markdown",
   "metadata": {},
   "source": [
    "So, the 95% confidence interval for the difference is (18.127 ,0.038)"
   ]
  },
  {
   "cell_type": "code",
   "execution_count": 75,
   "metadata": {},
   "outputs": [
    {
     "name": "stdout",
     "output_type": "stream",
     "text": [
      "18.12700054179565\n",
      "0.03502853799539629\n",
      "9.04400054179565\n"
     ]
    }
   ],
   "source": [
    "\n",
    "n1 = len(xi)\n",
    "n2 = len(xj)\n",
    "\n",
    "print ((x1.mean() - x2.mean()) + 2.10*(9.63)*math.sqrt((1/n1) + (1/n2)))\n",
    "print ((x1.mean() - x2.mean()) - t*(9.63)*math.sqrt((1/n1) + (1/n2)))\n"
   ]
  },
  {
   "cell_type": "code",
   "execution_count": 70,
   "metadata": {},
   "outputs": [
    {
     "data": {
      "image/png": "[encoded data removed]",
      "text/plain": [
       "<Figure size 360x360 with 1 Axes>"
      ]
     },
     "metadata": {
      "needs_background": "light"
     },
     "output_type": "display_data"
    }
   ],
   "source": [
    "x_min = -3\n",
    "x_max = 3\n",
    "plt.figure(figsize=(5,5))\n",
    "mean = 0\n",
    "std = 1\n",
    "\n",
    "x = np.linspace(x_min, x_max, 1000)\n",
    "\n",
    "y = scipy.stats.norm.pdf(x,mean,std)\n",
    "\n",
    "plt.plot(x,y, color='black')\n",
    "\n",
    "pt1 = -2.1\n",
    "plt.plot([pt1 ,pt1 ],[0.0,scipy.stats.norm.pdf(pt1 ,mean, std)], color='red')\n",
    "\n",
    "pt2 = 2.1\n",
    "plt.plot([pt2 ,pt2 ],[0.0,scipy.stats.norm.pdf(pt2 ,mean, std)], color='red')\n",
    "plt.xlabel(\"-2.1                           t                            2.1 \\n \\n0.038          <=                 ( \\u03BC 1 - \\u03BC 2 )             <=            18.127\")\n",
    "plt.vlines(x = 0, ymin = 0, ymax = 0.40,\n",
    "           colors = 'black',\n",
    "           label = 'vline_multiple - full height')\n",
    "plt.text(0, 0.25, '95% \\n Confidence \\n Interval ', ha='center', va='center',rotation='horizontal', bbox={'facecolor':'white'})\n",
    "plt.text(-2, 0.06, '.025', ha='center', va='center',rotation='horizontal', bbox={'facecolor':'white'})\n",
    "plt.text(2, 0.06, '.025', ha='center', va='center',rotation='horizontal', bbox={'facecolor':'white'})\n",
    "\n",
    "ptx = np.linspace(pt1, pt2, 1000)\n",
    "pty = scipy.stats.norm.pdf(ptx,mean,std)\n",
    "plt.annotate('', xy=(-2.1, 0.0), xytext=(2.1, 0.0),\n",
    "            arrowprops=dict(arrowstyle='<->', color='red'))\n",
    "\n",
    "\n",
    "plt.fill_between(ptx, pty, color='#187ad4', alpha=0.5)\n",
    "plt.text(1.5,0.35, \"Df = 18\")\n",
    "\n",
    "plt.show()\n"
   ]
  },
  {
   "cell_type": "markdown",
   "metadata": {},
   "source": [
    "The researcher is 95% confident that the difference in population average of weights before and weights after is between 0.038 and 18.127.\n",
    "The point estimate for the difference in population means is 9.08 with the error of 9.044. \n",
    "Hence we are 95% confident that the population mean for weights before is more than the population mean test score for weights after by between 0.038 and 18.127."
   ]
  },
  {
   "cell_type": "code",
   "execution_count": null,
   "metadata": {},
   "outputs": [],
   "source": []
  }
 ],
 "metadata": {
  "interpreter": {
   "hash": "405429bf2dc0097573c7842462781fb679be7cfecf039cc5f97d0f179dc3da2b"
  },
  "kernelspec": {
   "display_name": "Python 3.10.4 64-bit (windows store)",
   "language": "python",
   "name": "python3"
  },
  "language_info": {
   "codemirror_mode": {
    "name": "ipython",
    "version": 3
   },
   "file_extension": ".py",
   "mimetype": "text/x-python",
   "name": "python",
   "nbconvert_exporter": "python",
   "pygments_lexer": "ipython3",
   "version": "3.10.4"
  }
 },
 "nbformat": 4,
 "nbformat_minor": 4
}
